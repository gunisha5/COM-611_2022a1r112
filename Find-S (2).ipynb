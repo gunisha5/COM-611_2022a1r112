{
  "nbformat": 4,
  "nbformat_minor": 0,
  "metadata": {
    "colab": {
      "provenance": []
    },
    "kernelspec": {
      "name": "python3",
      "display_name": "Python 3"
    },
    "language_info": {
      "name": "python"
    }
  },
  "cells": [
    {
      "cell_type": "markdown",
      "source": [
        "Implement and demonstrate the data processing for finding the most specific hypothesis based on a given set of training data samples. Read the training data from the .csv file."
      ],
      "metadata": {
        "id": "yEPHUgR1ZsTR"
      }
    },
    {
      "cell_type": "markdown",
      "source": [
        "- Find-S algorithm\n",
        "- Concept Learning Hypothesis\n",
        "- It will only hit specific and positive attributes"
      ],
      "metadata": {
        "id": "1MG-oYPEaMM2"
      }
    },
    {
      "cell_type": "markdown",
      "source": [
        "1. Initialise the most specific hypothesis\n",
        "2. Update the hypotheses when encounters a positive example (Yes)\n",
        "3. if the feature value is same as the example of hypothesis  then it remains same\n",
        "4. It's feature value differs , itis replced by a wildcard symbol(?) which means 'any value'"
      ],
      "metadata": {
        "id": "r-Qz3-J9bRgF"
      }
    },
    {
      "cell_type": "code",
      "execution_count": null,
      "metadata": {
        "colab": {
          "base_uri": "https://localhost:8080/"
        },
        "id": "Dlaj6M01Vk67",
        "outputId": "a7ca0912-e60e-4278-9ade-9572d57f001b"
      },
      "outputs": [
        {
          "output_type": "stream",
          "name": "stdout",
          "text": [
            "\n",
            " The Given Training Data Set \n",
            "\n",
            "['Sunny', 'Warm', 'Normal', 'Strong', 'Warm', 'Same', 'Yes']\n",
            "['Sunny', 'Warm', 'High', 'Strong', 'Warm', 'Same', 'Yes']\n",
            "['Rainy', 'Cold', 'High', 'Strong', 'Warm', 'Change', 'No']\n",
            "['Sunny', 'Warm', 'High', 'Strong', 'Cool', 'Change', 'Yes']\n",
            "\n",
            " The initial value of hypothesis: \n",
            "['0', '0', '0', '0', '0', '0']\n",
            "\n",
            " Find S: Finding a Maximally Specific Hypothesis\n",
            "\n",
            "for Training instance No:1 the hypothesis is ['Sunny', 'Warm', 'Normal', 'Strong', 'Warm', 'Same']\n",
            "for Training instance No:2 the hypothesis is ['Sunny', 'Warm', '?', 'Strong', 'Warm', 'Same']\n",
            "for Training instance No:3 the hypothesis is ['Sunny', 'Warm', '?', 'Strong', 'Warm', 'Same']\n",
            "for Training instance No:4 the hypothesis is ['Sunny', 'Warm', '?', 'Strong', '?', '?']\n",
            "\n",
            " The Maximally Specific Hypothesis for a given Training Examples :\n",
            "\n",
            "['Sunny', 'Warm', '?', 'Strong', '?', '?']\n"
          ]
        }
      ],
      "source": [
        "import csv\n",
        "\n",
        "num_attributes = 6\n",
        "a = []\n",
        "\n",
        "print(\"\\n The Given Training Data Set \\n\")\n",
        "with open('weather_data.csv', 'r') as csvfile:\n",
        "  reader = csv.reader(csvfile)\n",
        "  for row in reader:\n",
        "    a.append(row)\n",
        "    print(row)\n",
        "\n",
        "print(\"\\n The initial value of hypothesis: \")\n",
        "hypothesis = ['0'] * num_attributes\n",
        "print(hypothesis)\n",
        "\n",
        "for j in range(0, num_attributes):\n",
        "  hypothesis[j] = a[0][j]\n",
        "\n",
        "print(\"\\n Find S: Finding a Maximally Specific Hypothesis\\n\")\n",
        "\n",
        "for i in range(0, len(a)):\n",
        "  if a[i][num_attributes] == 'Yes':\n",
        "    for j in range(0, num_attributes):\n",
        "        if a[i][j] != hypothesis[j]:\n",
        "          hypothesis[j] = '?'\n",
        "        else:\n",
        "          hypothesis[j] = a[i][j]\n",
        "\n",
        "  print(\"for Training instance No:{0} the hypothesis is\".format(i+1), hypothesis)\n",
        "\n",
        "print(\"\\n The Maximally Specific Hypothesis for a given Training Examples :\\n\")\n",
        "print(hypothesis)\n"
      ]
    }
  ]
}