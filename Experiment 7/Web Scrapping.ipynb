{
  "nbformat": 4,
  "nbformat_minor": 0,
  "metadata": {
    "colab": {
      "provenance": []
    },
    "kernelspec": {
      "name": "python3",
      "display_name": "Python 3"
    },
    "language_info": {
      "name": "python"
    }
  },
  "cells": [
    {
      "cell_type": "code",
      "execution_count": null,
      "metadata": {
        "id": "cG8EzERCIMUE"
      },
      "outputs": [],
      "source": [
        "from bs4 import BeautifulSoup\n",
        "import requests\n",
        "import pandas as pd\n",
        "import numpy as np"
      ]
    },
    {
      "cell_type": "code",
      "source": [
        "def get_title(soup):\n",
        "\n",
        "    try:\n",
        "        # Outer Tag Object\n",
        "        title = soup.find(\"span\", attrs={\"id\":'productTitle'})\n",
        "\n",
        "        # Inner NavigatableString Object\n",
        "        title_value = title.text\n",
        "\n",
        "        # Title as a string value\n",
        "        title_string = title_value.strip()\n",
        "\n",
        "    except AttributeError:\n",
        "        title_string = \"\"\n",
        "\n",
        "    return title_string"
      ],
      "metadata": {
        "id": "oupZAlyWIbzW"
      },
      "execution_count": null,
      "outputs": []
    },
    {
      "cell_type": "code",
      "source": [
        "def get_price(soup):\n",
        "    try:\n",
        "        price = soup.find(\"span\", {\"class\": \"a-offscreen\"})\n",
        "        if not price:\n",
        "            price = soup.find(\"span\", {\"class\": \"a-price-whole\"})  # fallback\n",
        "        return price.get_text(strip=True) if price else \"Price not found\"\n",
        "    except Exception as e:\n",
        "        return f\"Error: {e}\"\n"
      ],
      "metadata": {
        "id": "RKwgU5fKIgKe"
      },
      "execution_count": null,
      "outputs": []
    },
    {
      "cell_type": "code",
      "source": [
        "def get_rating(soup):\n",
        "\n",
        "    try:\n",
        "        rating = soup.find(\"i\", attrs={'class':'a-icon a-icon-star a-star-4-5'}).string.strip()\n",
        "\n",
        "    except AttributeError:\n",
        "        try:\n",
        "            rating = soup.find(\"span\", attrs={'class':'a-icon-alt'}).string.strip()\n",
        "        except:\n",
        "            rating = \"\"\n",
        "\n",
        "    return rating"
      ],
      "metadata": {
        "id": "u8_buUKNIlUK"
      },
      "execution_count": null,
      "outputs": []
    },
    {
      "cell_type": "code",
      "source": [
        "def get_review_count(soup):\n",
        "    try:\n",
        "        review_count = soup.find(\"span\", attrs={'id':'acrCustomerReviewText'}).string.strip()\n",
        "\n",
        "    except AttributeError:\n",
        "        review_count = \"\"\n",
        "\n",
        "    return review_count"
      ],
      "metadata": {
        "id": "c3gQ-r-8MqDr"
      },
      "execution_count": null,
      "outputs": []
    },
    {
      "cell_type": "code",
      "source": [
        "def get_availability(soup):\n",
        "    try:\n",
        "        available = soup.find(\"div\", attrs={'id':'availability'})\n",
        "        available = available.find(\"span\").string.strip()\n",
        "\n",
        "    except AttributeError:\n",
        "        available = \"Not Available\"\n",
        "\n",
        "    return available"
      ],
      "metadata": {
        "id": "nyvS4FPHMt6g"
      },
      "execution_count": null,
      "outputs": []
    },
    {
      "cell_type": "code",
      "source": [
        "if __name__ == '__main__':\n",
        "\n",
        "    # to tell the website that we are not a bot we need to pass headers (using user-agent)\n",
        "    HEADERS = {\n",
        "        \"User-Agent\": \"Mozilla/5.0 (Windows NT 10.0; Win64; x64) AppleWebKit/537.36 (KHTML, like Gecko) Chrome/135.0.0.0 Safari/537.36\",\n",
        "        \"Accept-Language\": \"en-US, en;q=0.5\",\n",
        "    }\n",
        "    # url from searching \"playstation 5\" in amazon.in\n",
        "    URL = \"https://www.amazon.in/SOLARA-Digital-Kitchen-cooking-Aqua/dp/B097R56RWC/?_encoding=UTF8&pd_rd_w=6j20R&content-id=amzn1.sym.84a33ec4-a0e2-4c1d-ade4-7c139afccd05&pf_rd_p=84a33ec4-a0e2-4c1d-ade4-7c139afccd05&pf_rd_r=T37R1QF2MXSXBPR22186&pd_rd_wg=JjFgd&pd_rd_r=3ca33ef0-28ea-4d3d-9622-dd25edd90a7b&ref_=pd_hp_d_btf_ls_gwc_pc_en2_&th=1\"\n",
        "\n",
        "    # making HTTP request to the website\n",
        "    webpage = requests.get(URL, headers=HEADERS)\n",
        "\n",
        "    # Soup Object containing all data\n",
        "    soup = BeautifulSoup(webpage.content, \"html.parser\")\n",
        "    #Function calls to display all necessary product information\n",
        "    print(\"Product Title =\", get_title(soup))\n",
        "    print(\"Product Price =\", get_price(soup))\n",
        "    print(\"Product Rating =\", get_rating(soup))\n",
        "    print(\"Number of Product Reviews =\", get_review_count(soup))\n",
        "    print(\"Availability =\", get_availability(soup))\n"
      ],
      "metadata": {
        "colab": {
          "base_uri": "https://localhost:8080/"
        },
        "outputId": "584f3984-56bb-4817-bdf8-1aae707d3205",
        "id": "o2oNJ54sXhYj"
      },
      "execution_count": null,
      "outputs": [
        {
          "output_type": "stream",
          "name": "stdout",
          "text": [
            "Product Title = SOLARA Xtra Large Digital Air Fryer for Home Kitchen with 8 Pre set modes for Indian cooking | 5.5L basket | Mobile app with 100+ recipe eBook and Videos | Aqua\n",
            "Product Price = ₹3,999.00\n",
            "Product Rating = 4.3 out of 5 stars\n",
            "Number of Product Reviews = 1,958 ratings\n",
            "Availability = In stock\n"
          ]
        }
      ]
    },
    {
      "cell_type": "code",
      "source": [],
      "metadata": {
        "id": "-nPt5houM5pV"
      },
      "execution_count": null,
      "outputs": []
    }
  ]
}